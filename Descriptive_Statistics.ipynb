{
 "cells": [
  {
   "cell_type": "markdown",
   "metadata": {},
   "source": [
    "# **DESCRIPTIVE STATISTICS**"
   ]
  },
  {
   "cell_type": "code",
   "execution_count": 2,
   "metadata": {},
   "outputs": [],
   "source": [
    "import os # To interact with the files system operating system's file system\n",
    "import matplotlib.pyplot as plt \n",
    "\n",
    "import pandas as pd \n",
    "import numpy as np \n",
    "import statistics\n",
    "import scipy as sp # Evolution of NumPy, numpy has added functions to work with distributions and classic statistics\n",
    "import seaborn as sns\n",
    "import random\n",
    "import math\n",
    "\n",
    "from statsmodels.stats.proportion import proportions_ztest # Developing models based in classic statistics"
   ]
  },
  {
   "cell_type": "markdown",
   "metadata": {},
   "source": [
    "\n",
    "## **Descriptive vs Inferential Stats**\n",
    "| a | s |\n",
    "| - | -|\n",
    "\n",
    "![](d_map_Statistics.png)"
   ]
  },
  {
   "cell_type": "markdown",
   "metadata": {},
   "source": [
    "## **Terminology in Population and Sample**"
   ]
  },
  {
   "cell_type": "markdown",
   "metadata": {},
   "source": [
    "|   Population  |   Sample  |\n",
    "|   ----------  |   ------  |\n",
    "|               |           |\n"
   ]
  },
  {
   "cell_type": "code",
   "execution_count": null,
   "metadata": {},
   "outputs": [],
   "source": [
    "# La población se trata de todos los elementos de interés, denotada por N.\n",
    "# Los números que la describen se llaman parámetros.\n",
    "\n",
    "# La muestra se trata de algunos de los elementos de interés, denotada por n.\n",
    "# Los números que la describen se llaman estadísticos o estimadores."
   ]
  },
  {
   "cell_type": "markdown",
   "metadata": {},
   "source": [
    "## **Measurement Scales**"
   ]
  },
  {
   "cell_type": "code",
   "execution_count": null,
   "metadata": {},
   "outputs": [],
   "source": [
    "# La estadística nos dice que hay 4 grandes escalas de medida:\n",
    "\n",
    "# NOMINAL: Tiene la propiedad de identidad (igual/diferente) pero NO la de orden. Por ejemplo el sexo o los colores.\n",
    "# ORDINAL: Añade la propiedad de orden, pero NO tiene una igual distancia entre elementos.\n",
    "#   Por ejemplo la clase social o el nivel formativo.\n",
    "\n",
    "# INTERVALO (o discreta): Añade la propiedad de igualdad de distancias, pero no permite infinitos valores entre sus elementos.\n",
    "#   Por ejemplo el número de hijos o número de siniestros.\n",
    "\n",
    "# RAZÓN (o continua): Puede tener (teóricamente) infinitos valores entre sus elementos.\n",
    "#   Por ejemplo el precio de un producto o las distancias.\n",
    "\n",
    "# A partir de las escalas se derivan los tipos de variables, que pueden ser diferente en cada implementación\n",
    "#   (p.e. en cada lenguaje de programación), pero casi siempre podremos hacer una asignación aproximada a una escala.\n",
    "#   Por ejemplo los enteros serían variables discretas, los reales continuas, los objetos categóricas, etc.\n",
    "\n",
    "# A un nivel más elevado podemos agruparlos en dos grupos que son super relevantes,\n",
    "#   ya que estos dos grupos van a determinar qué técnicas analíticas o qué gráficos podemos aplicar en cada uno de ellos:\n",
    "\n",
    "# CATEGÓRICAS (o cualitativas): incluyen nominales y ordinales.\n",
    "# NUMÉRICAS (o cuantitativas): incluyen discretas y razón."
   ]
  },
  {
   "cell_type": "markdown",
   "metadata": {},
   "source": [
    "## **Metricas para variables categoricas**"
   ]
  },
  {
   "cell_type": "code",
   "execution_count": null,
   "metadata": {},
   "outputs": [],
   "source": [
    "# Así, como ya habíamos anticipado la misión de la descriptiva es resumir, graficar y analizar los datos para\n",
    "#   intentar encontrar patrones de interés.\n",
    "\n",
    "# A grandes rasgos tenemos dos tipos de técnicas a nuestra disposición:\n",
    "\n",
    "# CÁLCULOS:\n",
    "# aplicar algún tipo de estadístico o análisis y obtener uno o varios resultados numéricos\n",
    "# (indicadores, tablas, porcentajes, p.e.)\n",
    "\n",
    "# GRÁFICOS:\n",
    "# resumir y mostrar la información de forma gráfica para detectar los patrones más fácilmente, en función del tipo de variable.\n",
    "\n",
    "# CONTEOS Y FRECUENCIAS. ¿Cuantas veces aparece ese valor de esa variable categórica?\n",
    "\n",
    "print(df.smoker.value_counts())\n",
    "\n",
    "# MODA. Estadístico más frecuente en la distribución de una variable categórica\n",
    "\n",
    "numeros = np.random.randint(0,11,1000)\n",
    "print(pd.Series(numeros).value_counts())\n",
    "print(statistics.mode(numeros))\n",
    "\n",
    "# TABLAS CRUZADAS. Para contrastar entre sí dos variables categóricas\n",
    "\n",
    "print(pd.crosstab(df.sex,df.smoker,margins = True))\n",
    "print(pd.crosstab(df.sex,df.smoker,margins = True, normalize = \"all\")) # Es más interesante ver estos valores en %\n",
    "\n",
    "# CHI CUADRADO. Nos da si la relación anterior es significativa o no\n",
    "# Con el resultado anterior, una pregunta que te podrías plantear sería:\n",
    "# ¿Hay alguna relación ente ser hombre y ser fumador y ser mujer y ser fumadora, p.e.?\n",
    "\n",
    "# ¿Estas diferencias son suficientes para tomar el resultado como una conclusión?\n",
    "#   ¿O quizá están dentro del margen esperable por efecto del muestreo y por tanto no podemos concluir nada?\n",
    "\n",
    "# Es lo que se llama ver si una conclusión es estadísticamente significativa y en un análisis de tablas cruzadas\n",
    "#   como este podemos hacerlo con el estadístico chi-cuadrado.\n",
    "\n",
    "# Parte de una hipótesis nula de que no hay relación entre las variables, es decir que son independientes y\n",
    "#   por tanto fumar o no, no depende del sexo, y la contrasta contra los datos obtenidos.\n",
    "\n",
    "# Si el pvalor es menor o igual que 0.05 entonces rechaza esa hipótesis nula, y significa que los datos si\n",
    "#   apoyan que hay diferencias significativas y por tanto podemos concluir que sí hay diferencias en cuanto al fumar\n",
    "#   entre hombres y mujeres.\n",
    "\n",
    "tabla = pd.crosstab(df.sex,df.smoker)\n",
    "chi, pvalor, gl, experado = sp.stats.chi2_contingency(tabla)\n",
    "\n",
    "print(chi)\n",
    "print(pvalor)\n",
    "\n",
    "# En este caso el valor es mayor que 0.05, por tanto no podemos rechazar la hipótesis nula, y por tanto no hay\n",
    "#   diferencias significativas entre hombres y mujeres, son puramente aleatorias"
   ]
  },
  {
   "cell_type": "markdown",
   "metadata": {},
   "source": [
    "## **Graficos para variables categoricas**"
   ]
  },
  {
   "cell_type": "code",
   "execution_count": null,
   "metadata": {},
   "outputs": [],
   "source": [
    "# Ahora vamos a hacer el análisis de variables categóricas con gráficos\n",
    "# Los gráficos más frecuentes que podremos hacer con variables categóricas son:\n",
    "\n",
    "# GRÁFICOS DE BARRAS: en vertical, horizonal o apilados, por ejemplo.\n",
    "# GRÁFICOS DE SECTORES (o de tarta)\n",
    "\n",
    "# Ruta de la carpeta de Descargas en macOS\n",
    "# carpeta_destino = f\"/Users/{os.getlogin()}/Downloads\"\n",
    "carpeta_destino = os.path.expanduser(\"~/Downloads\")\n",
    "\n",
    "# Creamos la carpeta de destino si no existe\n",
    "if not os.path.exists(carpeta_destino):\n",
    "\tos.makedirs(carpeta_destino)\n",
    "\n",
    "df.smoker.value_counts().plot(kind = 'bar');\n",
    "\n",
    "# Guardar el gráfico en la carpeta de destino\n",
    "nombre_archivo = f\"grafico_ejemplo_barras.png\"\n",
    "ruta_grafico = os.path.join(carpeta_destino, nombre_archivo)\n",
    "plt.savefig(ruta_grafico)\n",
    "plt.close()  # Cerrar la figura para liberar memoria\n",
    "print(\"Gráfico guardado en la carpeta de Descargas:\", carpeta_destino)\n",
    "\n",
    "df.smoker.value_counts().plot(kind = 'pie');\n",
    "\n",
    "# Guardar el gráfico en la carpeta de destino\n",
    "nombre_archivo = f\"grafico_ejemplo_sectores.png\"\n",
    "ruta_grafico = os.path.join(carpeta_destino, nombre_archivo)\n",
    "plt.savefig(ruta_grafico)\n",
    "plt.close()  # Cerrar la figura para liberar memoria\n",
    "print(\"Gráfico guardado en la carpeta de Descargas:\", carpeta_destino)"
   ]
  },
  {
   "cell_type": "markdown",
   "metadata": {},
   "source": [
    "## **Calculos para variables numericas_centralizacion y dispersion**"
   ]
  },
  {
   "cell_type": "code",
   "execution_count": null,
   "metadata": {},
   "outputs": [],
   "source": [
    "# Se diferencian dos tipos de medida:\n",
    "\n",
    "# CENTRALIZACIÓN:\n",
    "#   que intentan resumir la información de la variable en un sólo dato que pueda ser lo más representativo posible.\n",
    "#   Aquí están medidas como las medias, mediana o moda.\n",
    "\n",
    "# DISPERSIÓN:\n",
    "#   que representan el grado de variabilidad existente en la variable.\n",
    "#   Normalmente cuanto más baja sea la medida de dispersión más representativa será la medida de centralización.\n",
    "#   Aquí entran métricas como la varianza, la desviación típica o el coeficiente de variación.\n",
    "\n",
    "# También existen métricas para cuantificar la relación existente entre dos variables cuantitativas: las correlaciones."
   ]
  },
  {
   "cell_type": "markdown",
   "metadata": {},
   "source": [
    "## **Los diferentes tipos de medias**"
   ]
  },
  {
   "cell_type": "code",
   "execution_count": null,
   "metadata": {},
   "outputs": [],
   "source": [
    "# La media normal se llama media aritmétrica, y será la que usaremos en la mayoría de los casos.\n",
    "# La media winsorizada se usa cuando hay valores atípicos que pueden sesgar el valor de la media.\n",
    "\n",
    "# Para hacer la media de porcentajes o tasas hay que usar la media geométrica.\n",
    "# Para hacer la media de medias hay que usar la media armónica.\n",
    "\n",
    "print(statistics.mean([3,4,5])) # La media aritmética\n",
    "\n",
    "# Para calcular la media winsorizada\n",
    "# Ejemplo distribución salarios. Si hay un valor que dispara la media pero no es representaivo\n",
    "# cogeríamos el valor anterior y lo substituiríamos por ese\n",
    "\n",
    "numeros = np.array([3,4,5,6,999997])\n",
    "print(numeros)\n",
    "print(numeros.mean())\n",
    "\n",
    "# Winsorizar sustituye los valores fuera de los límites por el último valor\n",
    "winsorizados = sp.stats.mstats.winsorize(numeros, limits = [0, 0.2]) # Límite del 20% por encima\n",
    "print(winsorizados)\n",
    "print(winsorizados.mean())\n",
    "\n",
    "# Media geométrica (para porcentajes o tasas)\n",
    "print(statistics.geometric_mean([0.3,0.4,0.5]))\n",
    "\n",
    "# Comparamos con lo que hubiera salido en una media arimética\n",
    "print(statistics.mean([0.3,0.4,0.5])) # No sería un error muy grande, pero lo correcto para trabajar\n",
    "#                                           con porcentajes es la media geométrica\n",
    "\n",
    "# Media armónica (para media de medias), p.e. lotes de productos (dónde ya hay una media)\n",
    "# Suponemos que los datos de esta lista son medias, p.e. velocidad media de coches en 3 calles\n",
    "print(statistics.harmonic_mean([30.3,40.8,50.1]))\n",
    "\n",
    "# Comparamos con lo que hubiera salido en una media arimética\n",
    "print(statistics.mean([30.3,40.8,50.1]))"
   ]
  },
  {
   "cell_type": "markdown",
   "metadata": {},
   "source": [
    "## **Cuando la mediana es mejor estimador**"
   ]
  },
  {
   "cell_type": "code",
   "execution_count": null,
   "metadata": {},
   "outputs": [],
   "source": [
    "# Si se ordenan todos los valores de la variable en orden ascendente o descendente la mediantaes el valor de la\n",
    "#   variable correpondiente al elemento que ocupa la posición central, es decir, el que está en el 50%.\n",
    "\n",
    "# La mediana es una medida de centralización más recomendable que la media cuando tenemos distribuciones que no\n",
    "#   son normales, o cuando tenemos atípicos, por ejemplo, lo salarios tienen este tipo de distribuciones\n",
    "\n",
    "numeros = np.random.randint(0,11,11)\n",
    "numeros_ord = np.sort(numeros) # Es importante que esten ordenados\n",
    "\n",
    "print(numeros_ord)\n",
    "print(statistics.median(numeros_ord))"
   ]
  },
  {
   "cell_type": "markdown",
   "metadata": {},
   "source": [
    "## **Entendiendo la varianza**"
   ]
  },
  {
   "cell_type": "code",
   "execution_count": null,
   "metadata": {},
   "outputs": [],
   "source": [
    "# La varianza es el resultado de restar la media a cada valor de la variable,\n",
    "#   elevarlo al cuadrado (para evitar los negativos), sumarlo todo, y dividir el resultado por el número de datos.\n",
    "# Es una medida de dispersión, porque será mayor cuanto más lejos estén el global de los valores con respecto a la media.\n",
    "\n",
    "var1 = np.random.randint(0,11,20)\n",
    "print(var1)\n",
    "media = var1.mean()\n",
    "print(media)\n",
    "suma_cuadrados = sum((var1 - media) ** 2) # Sumatorio de (xi - xm)^2 / n\n",
    "print(suma_cuadrados)\n",
    "varianza = suma_cuadrados / (len(var1))\n",
    "print(varianza)\n",
    "\n",
    "print(var1.var())"
   ]
  },
  {
   "cell_type": "markdown",
   "metadata": {},
   "source": [
    "## **Desviacion tipica y coeficiente de variacion**"
   ]
  },
  {
   "cell_type": "code",
   "execution_count": null,
   "metadata": {},
   "outputs": [],
   "source": [
    "print(\"*****************\")\n",
    "print(\"DESVIACIÓN TÍPICA\")\n",
    "print(\"*****************\")\n",
    "\n",
    "# El cálcul de la varianza implica elevar al cuadrado para quitarnos los negativos.\n",
    "# Entonces, el dato obtenido ya no está en la misma escala que la media para poder compararlos, p.e.\n",
    "# Como solución se hace la raiz cuadrada a la varianza para volver a traerla a la escala, y es lo que se llama desviación típica.\n",
    "\n",
    "# Un ejemplo es cómo se calcula el coeficiente intelectual de las personas, y se puede comparar hablando en términos de 2 desviaciones típicas por encima de la media\n",
    "\n",
    "print(var1.std())\n",
    "\n",
    "print(\"************************\")\n",
    "print(\"COEFICIENTE DE VARIACIÓN\")\n",
    "print(\"************************\")\n",
    "# Decíamos que cuanto más baja sea la dispersión con respecto a la media será mejor porque nos\n",
    "#   indica que esa media es más representativa del total de los datos de la variable.\n",
    "\n",
    "# Ahora que ya tenemos una medida, la desviación típica, que sí está en la misma escala que la media, podemos compararlas.\n",
    "# Esto es lo que se conoce como coeficiente de variación, y consiste en dividir la desviación típica por la media, en %\n",
    "\n",
    "# Por ejemplo, permite comparar entre variables de diferentes escalas: ¿en qué somos más variables las personas:\n",
    "#   ¿en la altura o en el peso?\n",
    "\n",
    "print(var1.std() / var1.mean() * 100)"
   ]
  },
  {
   "cell_type": "markdown",
   "metadata": {},
   "source": [
    "## **Conociendo las limitaciones de la correlacion de Pearson**"
   ]
  },
  {
   "cell_type": "code",
   "execution_count": null,
   "metadata": {},
   "outputs": [],
   "source": [
    "# Cuando hablamos de correlación para medir la relación entre dos variables no estamos refiriendo a Pearson.\n",
    "\n",
    "# Sólo sería técnicamente correcto usar Pearson con variables contínuas y linealmente relacionadas,\n",
    "#   y si estas tienen una distribución normal.\n",
    "\n",
    "# Si las variables no son contínuas o normalmente distribuídas, o su relación es no lineal usar Pearson\n",
    "#   no es lo más correcto. Podríamos usar Spearman como veremos luego.\n",
    "\n",
    "# La correlación de Pearson es una medida lineal, y por tanto no válida para medir relaciones no lineales.\n",
    "\n",
    "# Entonces, significa que si dos variables aparecen como correlacionadas según Pearson efectivamente tendrán relación.\n",
    "#   Pero lo contrario no es siempre cierto, ya que podría haber relación pero ser no lineal.\n",
    "\n",
    "# La forma más fácil para identificar correlaciones no lineales es usar un gráfico de dispersión.\n",
    "\n",
    "# La correlación de Pearson se interpreta así:\n",
    "\n",
    "# +1 o -1: es una correlación perfecta (siempre que sube una la otra también o siempre que sube una la otra baja)\n",
    "# 0: no hay relación entre las variables\n",
    "\n",
    "# Si el pvalor está por debajo de 0.05 la relación sí es significativa (se recomienda considerarlo sólo para más de 500 datos)\n",
    "\n",
    "var1 = np.random.randint(1,21,1000) # valor\n",
    "var2 = np.random.randint(1,21,1000) # pvalor\n",
    "\n",
    "print(sp.stats.pearsonr(var1,var2))"
   ]
  },
  {
   "cell_type": "markdown",
   "metadata": {},
   "source": [
    "## **Que nos aporta el R cuadrado**"
   ]
  },
  {
   "cell_type": "code",
   "execution_count": null,
   "metadata": {},
   "outputs": [],
   "source": [
    "# O coeficiente de determinción\n",
    "\n",
    "# R cuadrado es simplemente el cuadrado de la correlación de Pearson.\n",
    "\n",
    "# Pero sin embargo es una métrica muy útil en modelización, ya que se puede entender como el porcentaje\n",
    "#   de una variable que podemos explicar a partir de otra (o combinación de otras como en los modelos lineales).\n",
    "\n",
    "# Por tanto será frecuente verla en modelos como las regresiones, donde el software nos reportará,\n",
    "#   por ejemplo un R cuadrado de 0.6 y eso significa que con nuestro modelo estamos siendo capaces\n",
    "#   de explicar el 60% de la variable objetivo, y por tanto nos queda un 40% que no sabemos explicar.\n",
    "\n",
    "# Al igual que la correlación de Pearson es una medida lineal, por tanto si cuando estamos modelizando\n",
    "#   con una técnica lineal nos sale un R cuadrado bajo puede ser interesante probar una técnica no lineal\n",
    "#   para ver si hay relaciones no lineales que no estaban siendo capturadas.\n",
    "\n",
    "# Pero seguimos hablando de relación LINEAL, es posible que exista relación, pero NO LINEAL, p.e.\n",
    "print((sp.stats.pearsonr(var1,var2)[0] ** 2) * 100)"
   ]
  },
  {
   "cell_type": "markdown",
   "metadata": {},
   "source": [
    "## **Cuando y como usar Spearman**"
   ]
  },
  {
   "cell_type": "code",
   "execution_count": null,
   "metadata": {},
   "outputs": [],
   "source": [
    "# La Rho de Spearman proporciona una solución para hacer la correlación cuando:\n",
    "\n",
    "# - Las variables son contínuas pero no se distribuyen según la normal\n",
    "# - Las variables son rankings (o discretas, p.e. # hijos)\n",
    "# - La relación es no lineal\n",
    "# - Las variables son discretas pero con menos de 30 valores distintos\n",
    "\n",
    "# Se interpreta así:\n",
    "\n",
    "# +1 o -1: es una relación perfectamente monotónica (siempre que sube una la otra también o al revés)\n",
    "# 0: no hay relación entre las variables\n",
    "\n",
    "#Si el pvalor está por debajo de 0.05 la relación sí es significativa (se recomienda considerarlo sólo para más de 500 datos)\n",
    "\n",
    "var1 = np.random.randint(1,21,1000)\n",
    "var2 = np.random.randint(1,21,1000)\n",
    "\n",
    "print(sp.stats.spearmanr(var1,var2))"
   ]
  },
  {
   "cell_type": "markdown",
   "metadata": {},
   "source": [
    "## **Correlacion no es causalidad**"
   ]
  },
  {
   "cell_type": "code",
   "execution_count": null,
   "metadata": {},
   "outputs": [],
   "source": [
    "# CORRELACIÓN VS CAUSALIDAD\n",
    "\n",
    "# Este es uno de los errores más frecuentes en el uso cotidiano de la estadística.\n",
    "\n",
    "# Se tiende a pensar que si dos variables están correlacionadas entonces se puede establecer\n",
    "#   una relación causa - efecto entre ellas. Realmente, para poder establacer una relación causa - efecto se tiene que cumplir que:\n",
    "\n",
    "# - Exista correlación\n",
    "# - La causa preceda en el tiempo a la consecuencia\n",
    "# - Se puedan descartar explicaciones alternativas\n",
    "\n",
    "# Aquí entran los conceptos de correlación espúrea y correlación parcial.\n",
    "\n",
    "# - Correlación espúrea es cuando dos variables parece que están relacionadas (pueden correlacionar de hecho),\n",
    "#       pero es realmente por el efecto de otras terceras variables no consideradas.\n",
    "\n",
    "\n",
    "# - Correlación parcial es la correlación real que queda entre las 2 primeras variables una vez\n",
    "#       que se elimina el efecto de la tercera o terceras.\n",
    "\n",
    "# Por ejemplo, está demostrado que existe alta correlación entre el tamaño del pie y el cociente de inteligencia.\n",
    "\n",
    "# Sin embargo esa correlación está marcada realmente por una tercera variable, la edad.\n",
    "#   Si se controla la edad y se elimina su efecto entonces ya no existe correlación entre el tamaño del pie\n",
    "#   y el cociente de inteligencia.\n",
    "\n",
    "# En contextos empresariales está plagado de este tipo de efectos y es conveniente conocer este concepto\n",
    "#   y aplicar siempre la visión crítica antes de obtener conclusiones.\n",
    "\n",
    "# - No suben las ventas cuando hay promociones: ¿se han controlado las promociones de la competencia?\n",
    "# - Los empleados que viajan dejan más la empresa: ¿se ha controlado la edad?\n",
    "# - Los clientes que más ganan sin embargo tienen menos ahorros: ¿se ha diferenciado entre los que tienen hipoteca y los que no?"
   ]
  },
  {
   "cell_type": "markdown",
   "metadata": {},
   "source": [
    "## **Graficos para variables continuas**"
   ]
  },
  {
   "cell_type": "code",
   "execution_count": null,
   "metadata": {},
   "outputs": [],
   "source": [
    "df.info()\n",
    "\n",
    "df.total_bill.plot(kind = 'hist');\n",
    "\n",
    "# Guardar el gráfico en la carpeta de destino\n",
    "nombre_archivo = f\"grafico_ejemplo_histograma.png\"\n",
    "ruta_grafico = os.path.join(carpeta_destino, nombre_archivo)\n",
    "plt.savefig(ruta_grafico)\n",
    "plt.close()  # Cerrar la figura para liberar memoria\n",
    "print(\"Gráfico guardado en la carpeta de Descargas:\", carpeta_destino)\n",
    "\n",
    "df.total_bill.plot(kind = 'density');\n",
    "\n",
    "# Guardar el gráfico en la carpeta de destino\n",
    "nombre_archivo = f\"grafico_ejemplo_densidad.png\"\n",
    "ruta_grafico = os.path.join(carpeta_destino, nombre_archivo)\n",
    "plt.savefig(ruta_grafico)\n",
    "plt.close()  # Cerrar la figura para liberar memoria\n",
    "print(\"Gráfico guardado en la carpeta de Descargas:\", carpeta_destino)\n",
    "\n",
    "df.plot.scatter('total_bill','tip');\n",
    "\n",
    "# Guardar el gráfico en la carpeta de destino\n",
    "nombre_archivo = f\"grafico_ejemplo_dispersion.png\"\n",
    "ruta_grafico = os.path.join(carpeta_destino, nombre_archivo)\n",
    "plt.savefig(ruta_grafico)\n",
    "plt.close()  # Cerrar la figura para liberar memoria\n",
    "print(\"Gráfico guardado en la carpeta de Descargas:\", carpeta_destino)"
   ]
  },
  {
   "cell_type": "markdown",
   "metadata": {},
   "source": [
    "## **Resumen y para que se usa todo esto**"
   ]
  },
  {
   "cell_type": "code",
   "execution_count": null,
   "metadata": {},
   "outputs": [],
   "source": [
    "# Cuando hagas análisis invertiás tiempo haciendo análisis y gráficos para las fases de un proyecto de Data Science de:\n",
    "\n",
    "# - Calidad de datos\n",
    "# - Corrección de errores\n",
    "# - Análisis exploratorio\n",
    "# - Transformación y creación de variables\n",
    "\n",
    "# Además la correlación es una de las técnicas de preselección de variables en modelización predictiva,\n",
    "#   así que la usaremos potencialmente de dos formas:\n",
    "\n",
    "# - Identificar qué variables NO están correlacionadas con la variable a predecir, y por tanto\n",
    "#       no invertir tiempo en trabajar sobre ellas ni incluirlas en la modelización\n",
    "\n",
    "# - Identficiar qué variables están correlacionadas entre sí y por tanto no es conveniente\n",
    "#       usarlas simultáneamente en los modelos"
   ]
  }
 ],
 "metadata": {
  "kernelspec": {
   "display_name": "Python 3",
   "language": "python",
   "name": "python3"
  },
  "language_info": {
   "codemirror_mode": {
    "name": "ipython",
    "version": 3
   },
   "file_extension": ".py",
   "mimetype": "text/x-python",
   "name": "python",
   "nbconvert_exporter": "python",
   "pygments_lexer": "ipython3",
   "version": "3.11.1"
  }
 },
 "nbformat": 4,
 "nbformat_minor": 2
}
